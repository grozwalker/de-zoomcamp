{
 "cells": [
  {
   "cell_type": "code",
   "execution_count": 1,
   "id": "e2d4beae",
   "metadata": {},
   "outputs": [
    {
     "data": {
      "text/plain": [
       "True"
      ]
     },
     "execution_count": 1,
     "metadata": {},
     "output_type": "execute_result"
    }
   ],
   "source": [
    "import json\n",
    "import time \n",
    "\n",
    "from kafka import KafkaProducer\n",
    "\n",
    "def json_serializer(data):\n",
    "    return json.dumps(data).encode('utf-8')\n",
    "\n",
    "server = 'localhost:9092'\n",
    "\n",
    "producer = KafkaProducer(\n",
    "    bootstrap_servers=[server],\n",
    "    value_serializer=json_serializer\n",
    ")\n",
    "\n",
    "producer.bootstrap_connected()"
   ]
  },
  {
   "cell_type": "code",
   "execution_count": 2,
   "id": "24a0fdac",
   "metadata": {},
   "outputs": [
    {
     "name": "stdout",
     "output_type": "stream",
     "text": [
      "Sent: {'number': 10}\n",
      "Sent: {'number': 11}\n",
      "Sent: {'number': 12}\n",
      "Sent: {'number': 13}\n",
      "Sent: {'number': 14}\n",
      "Sent: {'number': 15}\n",
      "Sent: {'number': 16}\n",
      "Sent: {'number': 17}\n",
      "Sent: {'number': 18}\n",
      "Sent: {'number': 19}\n",
      "before flush 0.55 seconds\n",
      "took 0.55 seconds\n"
     ]
    }
   ],
   "source": [
    "t0 = time.time()\n",
    "\n",
    "topic_name = 'test-topic'\n",
    "\n",
    "for i in range(10, 20):\n",
    "    message = {'number': i}\n",
    "    producer.send(topic_name, value=message)\n",
    "    print(f\"Sent: {message}\")\n",
    "    time.sleep(0.05)\n",
    "\n",
    "t2 = time.time()\n",
    "print(f'before flush {(t2 - t0):.2f} seconds')\n",
    "producer.flush()\n",
    "\n",
    "t1 = time.time()\n",
    "print(f'took {(t1 - t0):.2f} seconds')"
   ]
  },
  {
   "cell_type": "code",
   "execution_count": 3,
   "id": "b6d44b70-ddaf-4201-9327-f8c6e3857031",
   "metadata": {},
   "outputs": [],
   "source": [
    "import pandas as pd"
   ]
  },
  {
   "cell_type": "code",
   "execution_count": 4,
   "id": "298e5957-aa8a-4ebc-89a9-0fc46471dac2",
   "metadata": {},
   "outputs": [
    {
     "name": "stdout",
     "output_type": "stream",
     "text": [
      "took 23.07 seconds\n"
     ]
    }
   ],
   "source": [
    "df_green = pd.read_csv('./data/green_tripdata_2019-10.csv.gz', low_memory=False)\n",
    "\n",
    "columns = {\n",
    "    'lpep_pickup_datetime': 'pickup_datetime', \n",
    "    'lpep_dropoff_datetime': 'dropoff_datetime', \n",
    "    'PULocationID': 'pu_location_id', \n",
    "    'DOLocationID': 'do_location_id', \n",
    "    'passenger_count': 'passenger_count', \n",
    "    'trip_distance': 'trip_distance', \n",
    "    'tip_amount': 'tip_amount'\n",
    "}\n",
    "df_green = df_green[columns.keys()].rename(columns=columns)\n",
    "\n",
    "topic_name = 'green-trips-2'\n",
    "\n",
    "t0 = time.time()\n",
    "\n",
    "for row in df_green.itertuples(index=False):\n",
    "    row_dict = {col: getattr(row, col) for col in row._fields}\n",
    "    producer.send(topic_name, value=row_dict)\n",
    "    # print(f\"Sent: {row_dict}\")\n",
    "    # break\n",
    "\n",
    "    #TODO implement sending the data here\n",
    "\n",
    "producer.flush()\n",
    "\n",
    "t1 = time.time()\n",
    "print(f'took {(t1 - t0):.2f} seconds')"
   ]
  },
  {
   "cell_type": "code",
   "execution_count": 5,
   "id": "259a46a8-d695-4be9-bee6-dbf377611d2e",
   "metadata": {},
   "outputs": [
    {
     "name": "stderr",
     "output_type": "stream",
     "text": [
      "24/03/21 02:38:31 WARN Utils: Your hostname, Andreys-MacBook-Air.local resolves to a loopback address: 127.0.0.1; using 192.168.10.123 instead (on interface en0)\n",
      "24/03/21 02:38:31 WARN Utils: Set SPARK_LOCAL_IP if you need to bind to another address\n",
      "Ivy Default Cache set to: /Users/andrey_groza/.ivy2/cache\n",
      "The jars for the packages stored in: /Users/andrey_groza/.ivy2/jars\n",
      "org.apache.spark#spark-sql-kafka-0-10_2.12 added as a dependency\n",
      ":: resolving dependencies :: org.apache.spark#spark-submit-parent-d7666ebd-3372-4b8c-9995-c9fcd1c1edaf;1.0\n",
      "\tconfs: [default]\n"
     ]
    },
    {
     "name": "stdout",
     "output_type": "stream",
     "text": [
      ":: loading settings :: url = jar:file:/opt/homebrew/Cellar/apache-spark/3.5.1/libexec/jars/ivy-2.5.1.jar!/org/apache/ivy/core/settings/ivysettings.xml\n"
     ]
    },
    {
     "name": "stderr",
     "output_type": "stream",
     "text": [
      "\tfound org.apache.spark#spark-sql-kafka-0-10_2.12;3.5.1 in central\n",
      "\tfound org.apache.spark#spark-token-provider-kafka-0-10_2.12;3.5.1 in central\n",
      "\tfound org.apache.kafka#kafka-clients;3.4.1 in central\n",
      "\tfound org.lz4#lz4-java;1.8.0 in central\n",
      "\tfound org.xerial.snappy#snappy-java;1.1.10.3 in central\n",
      "\tfound org.slf4j#slf4j-api;2.0.7 in central\n",
      "\tfound org.apache.hadoop#hadoop-client-runtime;3.3.4 in central\n",
      "\tfound org.apache.hadoop#hadoop-client-api;3.3.4 in central\n",
      "\tfound commons-logging#commons-logging;1.1.3 in central\n",
      "\tfound com.google.code.findbugs#jsr305;3.0.0 in central\n",
      "\tfound org.apache.commons#commons-pool2;2.11.1 in central\n",
      ":: resolution report :: resolve 291ms :: artifacts dl 5ms\n",
      "\t:: modules in use:\n",
      "\tcom.google.code.findbugs#jsr305;3.0.0 from central in [default]\n",
      "\tcommons-logging#commons-logging;1.1.3 from central in [default]\n",
      "\torg.apache.commons#commons-pool2;2.11.1 from central in [default]\n",
      "\torg.apache.hadoop#hadoop-client-api;3.3.4 from central in [default]\n",
      "\torg.apache.hadoop#hadoop-client-runtime;3.3.4 from central in [default]\n",
      "\torg.apache.kafka#kafka-clients;3.4.1 from central in [default]\n",
      "\torg.apache.spark#spark-sql-kafka-0-10_2.12;3.5.1 from central in [default]\n",
      "\torg.apache.spark#spark-token-provider-kafka-0-10_2.12;3.5.1 from central in [default]\n",
      "\torg.lz4#lz4-java;1.8.0 from central in [default]\n",
      "\torg.slf4j#slf4j-api;2.0.7 from central in [default]\n",
      "\torg.xerial.snappy#snappy-java;1.1.10.3 from central in [default]\n",
      "\t---------------------------------------------------------------------\n",
      "\t|                  |            modules            ||   artifacts   |\n",
      "\t|       conf       | number| search|dwnlded|evicted|| number|dwnlded|\n",
      "\t---------------------------------------------------------------------\n",
      "\t|      default     |   11  |   0   |   0   |   0   ||   11  |   0   |\n",
      "\t---------------------------------------------------------------------\n",
      ":: retrieving :: org.apache.spark#spark-submit-parent-d7666ebd-3372-4b8c-9995-c9fcd1c1edaf\n",
      "\tconfs: [default]\n",
      "\t0 artifacts copied, 11 already retrieved (0kB/4ms)\n",
      "24/03/21 02:38:32 WARN NativeCodeLoader: Unable to load native-hadoop library for your platform... using builtin-java classes where applicable\n",
      "Setting default log level to \"WARN\".\n",
      "To adjust logging level use sc.setLogLevel(newLevel). For SparkR, use setLogLevel(newLevel).\n",
      "24/03/21 02:38:33 WARN Utils: Service 'SparkUI' could not bind on port 4040. Attempting port 4041.\n"
     ]
    }
   ],
   "source": [
    "import pyspark\n",
    "from pyspark.sql import SparkSession\n",
    "\n",
    "pyspark_version = pyspark.__version__\n",
    "kafka_jar_package = f\"org.apache.spark:spark-sql-kafka-0-10_2.12:{pyspark_version}\"\n",
    "\n",
    "spark = SparkSession \\\n",
    "    .builder \\\n",
    "    .master(\"local[*]\") \\\n",
    "    .appName(\"GreenTripsConsumer\") \\\n",
    "    .config(\"spark.jars.packages\", kafka_jar_package) \\\n",
    "    .getOrCreate()"
   ]
  },
  {
   "cell_type": "code",
   "execution_count": 6,
   "id": "e939f51e-c0c2-4242-860d-42f2737dacef",
   "metadata": {},
   "outputs": [
    {
     "name": "stderr",
     "output_type": "stream",
     "text": [
      "24/03/21 02:38:44 WARN GarbageCollectionMetrics: To enable non-built-in garbage collector(s) List(G1 Concurrent GC), users should configure it(them) to spark.eventLog.gcMetrics.youngGenerationGarbageCollectors or spark.eventLog.gcMetrics.oldGenerationGarbageCollectors\n"
     ]
    }
   ],
   "source": [
    "green_stream = spark \\\n",
    "    .readStream \\\n",
    "    .format(\"kafka\") \\\n",
    "    .option(\"kafka.bootstrap.servers\", \"localhost:9092\") \\\n",
    "    .option(\"subscribe\", \"green-trips-2\") \\\n",
    "    .option(\"startingOffsets\", \"earliest\") \\\n",
    "    .load()"
   ]
  },
  {
   "cell_type": "code",
   "execution_count": 13,
   "id": "6f165538-2d0f-4505-bacb-639fa4f28e49",
   "metadata": {},
   "outputs": [
    {
     "data": {
      "text/plain": [
       "Column<'current_timestamp()'>"
      ]
     },
     "execution_count": 13,
     "metadata": {},
     "output_type": "execute_result"
    }
   ],
   "source": [
    "from pyspark.sql import functions as F\n",
    "F.current_timestamp()"
   ]
  },
  {
   "cell_type": "code",
   "execution_count": 3,
   "id": "2e989647-27dc-41a4-b14b-4738bd8a6efa",
   "metadata": {},
   "outputs": [
    {
     "name": "stdout",
     "output_type": "stream",
     "text": [
      "<pyspark.sql.streaming.query.StreamingQuery object at 0x12591abc0>\n"
     ]
    },
    {
     "name": "stderr",
     "output_type": "stream",
     "text": [
      "24/03/20 03:09:16 WARN ResolveWriteToStream: Temporary checkpoint location created which is deleted normally when the query didn't fail: /private/var/folders/pr/p60v3pdj2qzdj7m2d40vmnqc0000gn/T/temporary-7852d0a8-679b-4a12-ae9d-226772b2c5b3. If it's required to delete it under any circumstances, please set spark.sql.streaming.forceDeleteTempCheckpointLocation to true. Important to know deleting temp checkpoint folder is best effort.\n",
      "24/03/20 03:09:16 WARN ResolveWriteToStream: spark.sql.adaptive.enabled is not supported in streaming DataFrames/Datasets and will be disabled.\n",
      "24/03/20 03:09:17 WARN AdminClientConfig: These configurations '[key.deserializer, value.deserializer, enable.auto.commit, max.poll.records, auto.offset.reset]' were supplied but are not used yet.\n",
      "                                                                                \r"
     ]
    },
    {
     "name": "stdout",
     "output_type": "stream",
     "text": [
      "inside\n",
      "[Row(key=None, value=bytearray(b'{\"pickup_datetime\": \"2019-10-01 00:26:02\", \"dropoff_datetime\": \"2019-10-01 00:39:58\", \"pu_location_id\": 112, \"do_location_id\": 196, \"passenger_count\": 1.0, \"trip_distance\": 5.88, \"tip_amount\": 0.0}'), topic='green-trips-2', partition=0, offset=0, timestamp=datetime.datetime(2024, 3, 20, 2, 55, 11, 293000), timestampType=0)]\n",
      "DataFrame[key: binary, value: binary, topic: string, partition: int, offset: bigint, timestamp: timestamp, timestampType: int]\n",
      "Row(key=None, value=bytearray(b'{\"pickup_datetime\": \"2019-10-01 00:26:02\", \"dropoff_datetime\": \"2019-10-01 00:39:58\", \"pu_location_id\": 112, \"do_location_id\": 196, \"passenger_count\": 1.0, \"trip_distance\": 5.88, \"tip_amount\": 0.0}'), topic='green-trips-2', partition=0, offset=0, timestamp=datetime.datetime(2024, 3, 20, 2, 55, 11, 293000), timestampType=0)\n"
     ]
    },
    {
     "name": "stderr",
     "output_type": "stream",
     "text": [
      "24/03/20 03:09:18 WARN GarbageCollectionMetrics: To enable non-built-in garbage collector(s) List(G1 Concurrent GC), users should configure it(them) to spark.eventLog.gcMetrics.youngGenerationGarbageCollectors or spark.eventLog.gcMetrics.oldGenerationGarbageCollectors\n"
     ]
    },
    {
     "name": "stdout",
     "output_type": "stream",
     "text": [
      "Row(lpep_pickup_datetime=None, lpep_dropoff_datetime=None, PULocationID=None, DOLocationID=None, passenger_count=1.0, trip_distance=5.88, tip_amount=0.0)\n"
     ]
    }
   ],
   "source": [
    "def peek(mini_batch, batch_id):\n",
    "    first_row = mini_batch.take(1)\n",
    "    print('inside')\n",
    "    print(first_row)\n",
    "    print(mini_batch)\n",
    "\n",
    "    if first_row:\n",
    "        print(first_row[0])\n",
    "\n",
    "query = green_stream.writeStream.foreachBatch(peek).start()\n",
    "\n",
    "print(query)"
   ]
  },
  {
   "cell_type": "code",
   "execution_count": 16,
   "id": "666a62c3-cc74-4b0e-b294-94301a04bddc",
   "metadata": {},
   "outputs": [],
   "source": [
    "query.stop()"
   ]
  },
  {
   "cell_type": "code",
   "execution_count": 17,
   "id": "bdebbd31-fd69-4c43-81a3-fa3bc93e6f46",
   "metadata": {},
   "outputs": [],
   "source": [
    "from pyspark.sql import types\n",
    "from pyspark.sql import functions as F\n",
    "\n",
    "schema = types.StructType() \\\n",
    "    .add(\"pickup_datetime\", types.StringType()) \\\n",
    "    .add(\"dropoff_datetime\", types.StringType()) \\\n",
    "    .add(\"pu_location_id\", types.IntegerType()) \\\n",
    "    .add(\"do_location_id\", types.IntegerType()) \\\n",
    "    .add(\"passenger_count\", types.DoubleType()) \\\n",
    "    .add(\"trip_distance\", types.DoubleType()) \\\n",
    "    .add(\"tip_amount\", types.DoubleType())\n",
    "\n",
    "green_stream = green_stream \\\n",
    "  .select(F.from_json(F.col(\"value\").cast('STRING'), schema).alias(\"data\")) \\\n",
    "  .select(\"data.*\")"
   ]
  },
  {
   "cell_type": "code",
   "execution_count": 19,
   "id": "4c89dd2f-7f3c-4474-9268-f68858fc24f8",
   "metadata": {},
   "outputs": [],
   "source": [
    "popular_destinations = green_stream \\\n",
    "    .withColumn('timestamp', F.current_timestamp()) \\\n",
    "    .groupBy([F.window(F.col(\"timestamp\"), \"5 minutes\"), \"do_location_id\"]) \\\n",
    "    .count() \\\n",
    "    .sort(F.col('count').desc())"
   ]
  },
  {
   "cell_type": "code",
   "execution_count": null,
   "id": "3f6328d1-8284-45a6-803b-af8f6a0b89c7",
   "metadata": {},
   "outputs": [
    {
     "name": "stderr",
     "output_type": "stream",
     "text": [
      "24/03/21 02:45:45 WARN ResolveWriteToStream: Temporary checkpoint location created which is deleted normally when the query didn't fail: /private/var/folders/pr/p60v3pdj2qzdj7m2d40vmnqc0000gn/T/temporary-909f0770-9215-4950-89cf-47a6e80dadcc. If it's required to delete it under any circumstances, please set spark.sql.streaming.forceDeleteTempCheckpointLocation to true. Important to know deleting temp checkpoint folder is best effort.\n",
      "24/03/21 02:45:45 WARN ResolveWriteToStream: spark.sql.adaptive.enabled is not supported in streaming DataFrames/Datasets and will be disabled.\n",
      "24/03/21 02:45:45 WARN AdminClientConfig: These configurations '[key.deserializer, value.deserializer, enable.auto.commit, max.poll.records, auto.offset.reset]' were supplied but are not used yet.\n",
      "                                                                                \r"
     ]
    },
    {
     "name": "stdout",
     "output_type": "stream",
     "text": [
      "-------------------------------------------\n",
      "Batch: 0\n",
      "-------------------------------------------\n",
      "+------------------------------------------+--------------+-----+\n",
      "|window                                    |do_location_id|count|\n",
      "+------------------------------------------+--------------+-----+\n",
      "|{2024-03-21 02:45:00, 2024-03-21 02:50:00}|74            |17741|\n",
      "|{2024-03-21 02:45:00, 2024-03-21 02:50:00}|42            |15942|\n",
      "|{2024-03-21 02:45:00, 2024-03-21 02:50:00}|41            |14061|\n",
      "|{2024-03-21 02:45:00, 2024-03-21 02:50:00}|75            |12840|\n",
      "|{2024-03-21 02:45:00, 2024-03-21 02:50:00}|129           |11930|\n",
      "|{2024-03-21 02:45:00, 2024-03-21 02:50:00}|7             |11533|\n",
      "|{2024-03-21 02:45:00, 2024-03-21 02:50:00}|166           |10845|\n",
      "|{2024-03-21 02:45:00, 2024-03-21 02:50:00}|236           |7913 |\n",
      "|{2024-03-21 02:45:00, 2024-03-21 02:50:00}|223           |7542 |\n",
      "|{2024-03-21 02:45:00, 2024-03-21 02:50:00}|238           |7318 |\n",
      "|{2024-03-21 02:45:00, 2024-03-21 02:50:00}|82            |7292 |\n",
      "|{2024-03-21 02:45:00, 2024-03-21 02:50:00}|181           |7282 |\n",
      "|{2024-03-21 02:45:00, 2024-03-21 02:50:00}|95            |7244 |\n",
      "|{2024-03-21 02:45:00, 2024-03-21 02:50:00}|244           |6733 |\n",
      "|{2024-03-21 02:45:00, 2024-03-21 02:50:00}|61            |6606 |\n",
      "|{2024-03-21 02:45:00, 2024-03-21 02:50:00}|116           |6339 |\n",
      "|{2024-03-21 02:45:00, 2024-03-21 02:50:00}|138           |6144 |\n",
      "|{2024-03-21 02:45:00, 2024-03-21 02:50:00}|97            |6050 |\n",
      "|{2024-03-21 02:45:00, 2024-03-21 02:50:00}|49            |5221 |\n",
      "|{2024-03-21 02:45:00, 2024-03-21 02:50:00}|151           |5153 |\n",
      "+------------------------------------------+--------------+-----+\n",
      "only showing top 20 rows\n",
      "\n"
     ]
    }
   ],
   "source": [
    "query = popular_destinations \\\n",
    "    .writeStream \\\n",
    "    .outputMode(\"complete\") \\\n",
    "    .format(\"console\") \\\n",
    "    .option(\"truncate\", \"false\") \\\n",
    "    .start()\n",
    "\n",
    "query.awaitTermination()"
   ]
  },
  {
   "cell_type": "code",
   "execution_count": null,
   "id": "05556860-bfec-4e82-a19e-399b84332db0",
   "metadata": {},
   "outputs": [],
   "source": [
    "query.stop()"
   ]
  },
  {
   "cell_type": "code",
   "execution_count": 4,
   "id": "5557870e-171d-451d-be3f-469701fc39b2",
   "metadata": {},
   "outputs": [
    {
     "name": "stderr",
     "output_type": "stream",
     "text": [
      "24/03/20 03:17:48 WARN ResolveWriteToStream: Temporary checkpoint location created which is deleted normally when the query didn't fail: /private/var/folders/pr/p60v3pdj2qzdj7m2d40vmnqc0000gn/T/temporary-ecc6bd54-8e9c-4d32-9903-72ab408f0c5e. If it's required to delete it under any circumstances, please set spark.sql.streaming.forceDeleteTempCheckpointLocation to true. Important to know deleting temp checkpoint folder is best effort.\n",
      "24/03/20 03:17:48 WARN ResolveWriteToStream: spark.sql.adaptive.enabled is not supported in streaming DataFrames/Datasets and will be disabled.\n",
      "24/03/20 03:17:48 WARN AdminClientConfig: These configurations '[key.deserializer, value.deserializer, enable.auto.commit, max.poll.records, auto.offset.reset]' were supplied but are not used yet.\n",
      "                                                                                \r"
     ]
    },
    {
     "name": "stdout",
     "output_type": "stream",
     "text": [
      "Row(pickup_datetime='2019-10-01 00:26:02', dropoff_datetime='2019-10-01 00:39:58', pu_location_id=112, do_location_id=196, passenger_count=1.0, trip_distance=5.88, tip_amount=0.0)\n"
     ]
    },
    {
     "name": "stderr",
     "output_type": "stream",
     "text": [
      "24/03/20 03:17:51 WARN GarbageCollectionMetrics: To enable non-built-in garbage collector(s) List(G1 Concurrent GC), users should configure it(them) to spark.eventLog.gcMetrics.youngGenerationGarbageCollectors or spark.eventLog.gcMetrics.oldGenerationGarbageCollectors\n"
     ]
    }
   ],
   "source": [
    "def peek(mini_batch, batch_id):\n",
    "    first_row = mini_batch.take(1)\n",
    "\n",
    "    if first_row:\n",
    "        print(first_row[0])\n",
    "\n",
    "query = green_stream.writeStream.foreachBatch(peek).start()"
   ]
  },
  {
   "cell_type": "code",
   "execution_count": 18,
   "id": "0e237c46-b7e6-41e9-9933-02a4962b3d48",
   "metadata": {},
   "outputs": [],
   "source": [
    "query.stop()"
   ]
  },
  {
   "cell_type": "code",
   "execution_count": null,
   "id": "a6d9f698-a51d-446d-b2b2-9a4671301aa7",
   "metadata": {},
   "outputs": [],
   "source": []
  }
 ],
 "metadata": {
  "kernelspec": {
   "display_name": "Python 3 (ipykernel)",
   "language": "python",
   "name": "python3"
  },
  "language_info": {
   "codemirror_mode": {
    "name": "ipython",
    "version": 3
   },
   "file_extension": ".py",
   "mimetype": "text/x-python",
   "name": "python",
   "nbconvert_exporter": "python",
   "pygments_lexer": "ipython3",
   "version": "3.10.13"
  }
 },
 "nbformat": 4,
 "nbformat_minor": 5
}
